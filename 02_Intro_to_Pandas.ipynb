{
 "cells": [
  {
   "cell_type": "markdown",
   "metadata": {},
   "source": [
    "# Prepare csv data for baltic sea level\n",
    "\n",
    "You can safely skip this notebook and move on to the next if you just want to get into the basics of reading text data with a well-behaved data set.  You might come back later, to learn about handling weirdly formatted text files, though."
   ]
  },
  {
   "cell_type": "code",
   "execution_count": 1,
   "metadata": {},
   "outputs": [],
   "source": [
    "# import relevant modules\n",
    "%matplotlib inline\n",
    "import pandas as pd"
   ]
  },
  {
   "cell_type": "markdown",
   "metadata": {},
   "source": [
    "Inspect existing data files. (They are not in a nice format!)"
   ]
  },
  {
   "cell_type": "code",
   "execution_count": 2,
   "metadata": {},
   "outputs": [
    {
     "name": "stdout",
     "output_type": "stream",
     "text": [
      "OSTSEE_FLENSBURG.dat          OSTSEE_LT+KIEL.dat\n",
      "OSTSEE_GREIFSWALD-WIECK.dat   baltic_sea_level_combined.csv\n"
     ]
    }
   ],
   "source": [
    "!ls data/baltic_sea_level/"
   ]
  },
  {
   "cell_type": "code",
   "execution_count": 3,
   "metadata": {},
   "outputs": [
    {
     "name": "stdout",
     "output_type": "stream",
     "text": [
      "# OSTSEE_FLENSBURG\n",
      "time-stamp sea-level-in-m\n",
      "2018-01-16T00:01 480.000000\n",
      "2018-01-16T00:02 480.000000\n",
      "2018-01-16T00:03 480.000000\n",
      "2018-01-16T00:04 480.000000\n",
      "2018-01-16T00:05 480.000000\n",
      "2018-01-16T00:06 480.000000\n",
      "2018-01-16T00:07 480.000000\n",
      "2018-01-16T00:08 480.000000\n"
     ]
    }
   ],
   "source": [
    "!head data/baltic_sea_level/OSTSEE_FLENSBURG.dat"
   ]
  },
  {
   "cell_type": "markdown",
   "metadata": {},
   "source": [
    "## Prepare function to read a single station time series"
   ]
  },
  {
   "cell_type": "code",
   "execution_count": 4,
   "metadata": {},
   "outputs": [],
   "source": [
    "def read_sea_level_data(station_name):\n",
    "    df = pd.read_csv(\n",
    "        f\"data/baltic_sea_level/OSTSEE_{station_name}.dat\",\n",
    "        skiprows=1,\n",
    "        delimiter=\" \"\n",
    "    )\n",
    "    df[\"time-stamp\"] = df[\"time-stamp\"].apply(pd.Timestamp)\n",
    "    df = df.set_index(\"time-stamp\")\n",
    "    df = df.rename(columns={\"sea-level-in-m\": f\"{station_name} sea-level in m\"})\n",
    "    return df"
   ]
  },
  {
   "cell_type": "markdown",
   "metadata": {},
   "source": [
    "## Load all station files and combine them into clean CSV file"
   ]
  },
  {
   "cell_type": "code",
   "execution_count": 5,
   "metadata": {},
   "outputs": [],
   "source": [
    "from functools import reduce\n",
    "\n",
    "df = reduce(\n",
    "    lambda left,right: pd.merge(left,right,on='time-stamp'),\n",
    "    [\n",
    "        read_sea_level_data(sn)\n",
    "        for sn in [\"FLENSBURG\", \"LT+KIEL\", \"GREIFSWALD-WIECK\"]\n",
    "    ]\n",
    ")\n",
    "\n",
    "df = df.dropna()\n",
    "\n",
    "df.to_csv(\"data/baltic_sea_level/baltic_sea_level_combined.csv\")"
   ]
  },
  {
   "cell_type": "markdown",
   "metadata": {},
   "source": [
    "## Use final CSV file"
   ]
  },
  {
   "cell_type": "code",
   "execution_count": 6,
   "metadata": {},
   "outputs": [
    {
     "data": {
      "text/html": [
       "<div>\n",
       "<style scoped>\n",
       "    .dataframe tbody tr th:only-of-type {\n",
       "        vertical-align: middle;\n",
       "    }\n",
       "\n",
       "    .dataframe tbody tr th {\n",
       "        vertical-align: top;\n",
       "    }\n",
       "\n",
       "    .dataframe thead th {\n",
       "        text-align: right;\n",
       "    }\n",
       "</style>\n",
       "<table border=\"1\" class=\"dataframe\">\n",
       "  <thead>\n",
       "    <tr style=\"text-align: right;\">\n",
       "      <th></th>\n",
       "      <th>FLENSBURG sea-level in m</th>\n",
       "      <th>LT+KIEL sea-level in m</th>\n",
       "      <th>GREIFSWALD-WIECK sea-level in m</th>\n",
       "    </tr>\n",
       "    <tr>\n",
       "      <th>time-stamp</th>\n",
       "      <th></th>\n",
       "      <th></th>\n",
       "      <th></th>\n",
       "    </tr>\n",
       "  </thead>\n",
       "  <tbody>\n",
       "    <tr>\n",
       "      <th>2018-01-16 00:01:00</th>\n",
       "      <td>480.0</td>\n",
       "      <td>459.0</td>\n",
       "      <td>452.0</td>\n",
       "    </tr>\n",
       "    <tr>\n",
       "      <th>2018-01-16 00:02:00</th>\n",
       "      <td>480.0</td>\n",
       "      <td>459.0</td>\n",
       "      <td>452.0</td>\n",
       "    </tr>\n",
       "    <tr>\n",
       "      <th>2018-01-16 00:03:00</th>\n",
       "      <td>480.0</td>\n",
       "      <td>459.0</td>\n",
       "      <td>452.0</td>\n",
       "    </tr>\n",
       "    <tr>\n",
       "      <th>2018-01-16 00:04:00</th>\n",
       "      <td>480.0</td>\n",
       "      <td>459.0</td>\n",
       "      <td>452.0</td>\n",
       "    </tr>\n",
       "    <tr>\n",
       "      <th>2018-01-16 00:05:00</th>\n",
       "      <td>480.0</td>\n",
       "      <td>459.0</td>\n",
       "      <td>452.0</td>\n",
       "    </tr>\n",
       "    <tr>\n",
       "      <th>...</th>\n",
       "      <td>...</td>\n",
       "      <td>...</td>\n",
       "      <td>...</td>\n",
       "    </tr>\n",
       "    <tr>\n",
       "      <th>2018-02-16 09:08:00</th>\n",
       "      <td>464.0</td>\n",
       "      <td>464.0</td>\n",
       "      <td>489.0</td>\n",
       "    </tr>\n",
       "    <tr>\n",
       "      <th>2018-02-16 09:09:00</th>\n",
       "      <td>464.0</td>\n",
       "      <td>464.0</td>\n",
       "      <td>488.0</td>\n",
       "    </tr>\n",
       "    <tr>\n",
       "      <th>2018-02-16 09:10:00</th>\n",
       "      <td>465.0</td>\n",
       "      <td>464.0</td>\n",
       "      <td>488.0</td>\n",
       "    </tr>\n",
       "    <tr>\n",
       "      <th>2018-02-16 09:11:00</th>\n",
       "      <td>465.0</td>\n",
       "      <td>464.0</td>\n",
       "      <td>488.0</td>\n",
       "    </tr>\n",
       "    <tr>\n",
       "      <th>2018-02-16 09:12:00</th>\n",
       "      <td>465.0</td>\n",
       "      <td>464.0</td>\n",
       "      <td>488.0</td>\n",
       "    </tr>\n",
       "  </tbody>\n",
       "</table>\n",
       "<p>43726 rows × 3 columns</p>\n",
       "</div>"
      ],
      "text/plain": [
       "                     FLENSBURG sea-level in m  LT+KIEL sea-level in m  \\\n",
       "time-stamp                                                              \n",
       "2018-01-16 00:01:00                     480.0                   459.0   \n",
       "2018-01-16 00:02:00                     480.0                   459.0   \n",
       "2018-01-16 00:03:00                     480.0                   459.0   \n",
       "2018-01-16 00:04:00                     480.0                   459.0   \n",
       "2018-01-16 00:05:00                     480.0                   459.0   \n",
       "...                                       ...                     ...   \n",
       "2018-02-16 09:08:00                     464.0                   464.0   \n",
       "2018-02-16 09:09:00                     464.0                   464.0   \n",
       "2018-02-16 09:10:00                     465.0                   464.0   \n",
       "2018-02-16 09:11:00                     465.0                   464.0   \n",
       "2018-02-16 09:12:00                     465.0                   464.0   \n",
       "\n",
       "                     GREIFSWALD-WIECK sea-level in m  \n",
       "time-stamp                                            \n",
       "2018-01-16 00:01:00                            452.0  \n",
       "2018-01-16 00:02:00                            452.0  \n",
       "2018-01-16 00:03:00                            452.0  \n",
       "2018-01-16 00:04:00                            452.0  \n",
       "2018-01-16 00:05:00                            452.0  \n",
       "...                                              ...  \n",
       "2018-02-16 09:08:00                            489.0  \n",
       "2018-02-16 09:09:00                            488.0  \n",
       "2018-02-16 09:10:00                            488.0  \n",
       "2018-02-16 09:11:00                            488.0  \n",
       "2018-02-16 09:12:00                            488.0  \n",
       "\n",
       "[43726 rows x 3 columns]"
      ]
     },
     "metadata": {},
     "output_type": "display_data"
    },
    {
     "data": {
      "image/png": "[encoded data removed]",
      "text/plain": [
       "<Figure size 432x288 with 1 Axes>"
      ]
     },
     "metadata": {
      "needs_background": "light"
     },
     "output_type": "display_data"
    }
   ],
   "source": [
    "df = pd.read_csv(\"data/baltic_sea_level/baltic_sea_level_combined.csv\")\n",
    "df[\"time-stamp\"] = df[\"time-stamp\"].apply(pd.Timestamp)\n",
    "df = df.set_index(\"time-stamp\")\n",
    "display(df)\n",
    "df.plot();"
   ]
  },
  {
   "cell_type": "code",
   "execution_count": null,
   "metadata": {},
   "outputs": [],
   "source": []
  }
 ],
 "metadata": {
  "kernelspec": {
   "display_name": "Python 3",
   "language": "python",
   "name": "python3"
  },
  "language_info": {
   "codemirror_mode": {
    "name": "ipython",
    "version": 3
   },
   "file_extension": ".py",
   "mimetype": "text/x-python",
   "name": "python",
   "nbconvert_exporter": "python",
   "pygments_lexer": "ipython3",
   "version": "3.7.3"
  }
 },
 "nbformat": 4,
 "nbformat_minor": 4
}
